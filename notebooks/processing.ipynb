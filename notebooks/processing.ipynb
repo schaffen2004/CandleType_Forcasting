{
 "cells": [
  {
   "cell_type": "code",
   "execution_count": null,
   "id": "13a406f4",
   "metadata": {},
   "outputs": [],
   "source": [
    "import pandas as pd"
   ]
  },
  {
   "cell_type": "code",
   "execution_count": null,
   "id": "1909989d",
   "metadata": {},
   "outputs": [],
   "source": [
    "df = pd.read(\"/home/trangndp/projects/trading_bot/dataset/M5/XAUUSD_M5.csv\")"
   ]
  }
 ],
 "metadata": {
  "kernelspec": {
   "display_name": "test",
   "language": "python",
   "name": "python3"
  },
  "language_info": {
   "name": "python",
   "version": "3.10.16"
  }
 },
 "nbformat": 4,
 "nbformat_minor": 5
}
